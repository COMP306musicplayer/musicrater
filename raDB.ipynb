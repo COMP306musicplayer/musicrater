{
 "cells": [
  {
   "cell_type": "code",
   "execution_count": 1,
   "id": "c3fb872b",
   "metadata": {},
   "outputs": [],
   "source": [
    "import mysql.connector\n",
    "import pandas as pd\n",
    "import csv"
   ]
  },
  {
   "cell_type": "code",
   "execution_count": 5,
   "id": "63d4f573",
   "metadata": {},
   "outputs": [
    {
     "name": "stdout",
     "output_type": "stream",
     "text": [
      "<mysql.connector.connection.MySQLConnection object at 0x7fc7d9fecf40>\n"
     ]
    }
   ],
   "source": [
    "db_connection = mysql.connector.connect(\n",
    "  host=\"localhost\",\n",
    "  user=\"root\",\n",
    "  passwd=\"\", \n",
    "  auth_plugin='mysql_native_password'\n",
    ")\n",
    "print(db_connection)\n",
    "\n",
    "# creating database_cursor to perform SQL operation to run queries\n",
    "db_cursor = db_connection.cursor(buffered=True)\n",
    "\n",
    "db_cursor.execute(\"USE ratingApp\")\n"
   ]
  },
  {
   "cell_type": "code",
   "execution_count": null,
   "id": "0dd01b3a",
   "metadata": {},
   "outputs": [],
   "source": [
    "# executing cursor with execute method and pass SQL query\n",
    "db_cursor.execute(\"CREATE DATABASE ratingApp\")\n",
    "\n",
    "# get list of all databases\n",
    "db_cursor.execute(\"SHOW DATABASES\")\n",
    "\n",
    "# print all databases\n",
    "for db in db_cursor:\n",
    "    print(db)"
   ]
  },
  {
   "cell_type": "code",
   "execution_count": null,
   "id": "2f65e432",
   "metadata": {},
   "outputs": [],
   "source": [
    "# create Artists table\n",
    "db_cursor.execute(\"\"\"CREATE TABLE ARTISTS (artist_id VARCHAR(50) PRIMARY KEY NOT NULL,  \n",
    "                                          artist_fname VARCHAR(50), \n",
    "                                          artist_mname VARCHAR(50), \n",
    "                                          artist_lname VARCHAR(50),\n",
    "                                          artist_genre VARCHAR(50))\"\"\")\n",
    "\n",
    "insert_artists = (\n",
    "    \"INSERT INTO ARTISTS(artist_id, artist_fname, artist_mname, artist_lname, artist_genre) \"\n",
    "    \"VALUES (%s, %s, %s, %s, %s)\"\n",
    ")"
   ]
  },
  {
   "cell_type": "code",
   "execution_count": null,
   "id": "bb39f9c0",
   "metadata": {},
   "outputs": [],
   "source": [
    "# create Albums table\n",
    "db_cursor.execute(\"\"\"CREATE TABLE ALBUMS (album_id VARCHAR(50) PRIMARY KEY NOT NULL,  \n",
    "                                          album_title VARCHAR(50), \n",
    "                                          album_releaseDate DATETIME,\n",
    "                                          maker_id VARCHAR(50),\n",
    "                                          album_genre VARCHAR(50),\n",
    "                                          FOREIGN KEY(maker_id) REFERENCES ARTISTS(artist_id) \n",
    "                                          ON DELETE CASCADE\n",
    "                                          ON UPDATE NO ACTION)\"\"\")\n",
    "\n",
    "insert_albums = (\n",
    "    \"INSERT INTO ALBUM(album_id, album_title, album_releaseDate, album_genre) \"\n",
    "    \"VALUES (%s, %s, %s, %s)\"\n",
    ")"
   ]
  },
  {
   "cell_type": "code",
   "execution_count": null,
   "id": "f33168ae",
   "metadata": {},
   "outputs": [],
   "source": [
    "# create Songs table\n",
    "db_cursor.execute(\"\"\"CREATE TABLE SONGS (song_id VARCHAR(50) PRIMARY KEY NOT NULL,  \n",
    "                                          song_duration FLOAT, \n",
    "                                          song_title VARCHAR(50),\n",
    "                                          song_rating INTEGER,\n",
    "                                          singer_id VARCHAR(50),\n",
    "                                          inalbum_id VARCHAR(50),\n",
    "                                          song_genre VARCHAR(50),\n",
    "                                          FOREIGN KEY(singer_id) REFERENCES ARTISTS(artist_id) ON DELETE CASCADE\n",
    "                                          ON UPDATE NO ACTION,\n",
    "                                          FOREIGN KEY(inalbum_id) REFERENCES ALBUMS(album_id) ON DELETE CASCADE\n",
    "                                          ON UPDATE NO ACTION)\"\"\")\n",
    "\n",
    "insert_songs = (\n",
    "    \"INSERT INTO SONGS(song_id, song_title, song_duration, song_rating, singer_id, inalbum_id, song_genre) \"\n",
    "    \"VALUES (%s, %s, %s, %s, %s, %s, %s)\"\n",
    ")"
   ]
  },
  {
   "cell_type": "code",
   "execution_count": 7,
   "id": "013d3a73",
   "metadata": {},
   "outputs": [],
   "source": [
    "# create Users table\n",
    "db_cursor.execute(\"\"\"CREATE TABLE USERS (user_id VARCHAR(50) PRIMARY KEY NOT NULL,  \n",
    "                                          user_userName VARCHAR(50), \n",
    "                                          user_password VARCHAR(50) \n",
    "                                          )\"\"\")\n",
    "\n",
    "insert_user = (\n",
    "    \"INSERT INTO USERS(user_id, user_userName, user_password) \"\n",
    "    \"VALUES (%s, %s, %s)\"\n",
    ")"
   ]
  },
  {
   "cell_type": "code",
   "execution_count": 8,
   "id": "a09beddb",
   "metadata": {},
   "outputs": [],
   "source": [
    "# create LikedSongs table\n",
    "db_cursor.execute(\"\"\"CREATE TABLE LikedSongs (song_id VARCHAR(50),  \n",
    "                 user_id VARCHAR(50),\n",
    "                 FOREIGN KEY(song_id) REFERENCES SONGS(song_id) ON DELETE CASCADE\n",
    "                 ON UPDATE NO ACTION,\n",
    "                 FOREIGN KEY(user_id) REFERENCES USERS(user_id) ON DELETE CASCADE\n",
    "                 ON UPDATE NO ACTION)\"\"\")\n",
    "\n",
    "insert_likedsong = (\n",
    "    \"INSERT INTO LikedSongs(song_id, user_id) \"\n",
    "    \"VALUES (%s, %s)\"\n",
    ")"
   ]
  },
  {
   "cell_type": "code",
   "execution_count": 10,
   "id": "40e3e4b3",
   "metadata": {},
   "outputs": [],
   "source": [
    "db_cursor.execute(\"\"\"alter table LikedSongs add primary key (song_id, user_id)\"\"\")"
   ]
  },
  {
   "cell_type": "code",
   "execution_count": 11,
   "id": "c0764ef9",
   "metadata": {},
   "outputs": [],
   "source": [
    "# create LikedAlbums table\n",
    "db_cursor.execute(\"\"\"CREATE TABLE LikedAlbums (album_id VARCHAR(50),  \n",
    "                 user_id VARCHAR(50),\n",
    "                 FOREIGN KEY(album_id) REFERENCES ALBUMS(album_id) ON DELETE CASCADE\n",
    "                 ON UPDATE NO ACTION,\n",
    "                 FOREIGN KEY(user_id) REFERENCES USERS(user_id) ON DELETE CASCADE\n",
    "                 ON UPDATE NO ACTION)\"\"\")\n",
    "\n",
    "insert_likedalbum = (\n",
    "    \"INSERT INTO LikedAlbums(album_id, user_id) \"\n",
    "    \"VALUES (%s, %s)\"\n",
    ")"
   ]
  },
  {
   "cell_type": "code",
   "execution_count": 12,
   "id": "06ef7b69",
   "metadata": {},
   "outputs": [],
   "source": [
    "db_cursor.execute(\"\"\"alter table LikedAlbums add primary key (album_id, user_id)\"\"\")"
   ]
  },
  {
   "cell_type": "code",
   "execution_count": 13,
   "id": "f2ca514c",
   "metadata": {},
   "outputs": [],
   "source": [
    "def findFromSong(songtitle): \n",
    "    frommsong_query = \"\"\"SELECT s.song_id, s.song_title, 'song' as type \n",
    "                      FROM SONGS s\n",
    "                      WHERE s.song_title like '%\"\"\" + songtitle + \"\"\"%' \"\"\"\n",
    "    db_cursor.execute(frommsong_query)\n",
    "    records = db_cursor.fetchall()\n",
    "    \n",
    "    return records"
   ]
  },
  {
   "cell_type": "code",
   "execution_count": 14,
   "id": "7c5eddd7",
   "metadata": {},
   "outputs": [],
   "source": [
    "def findFromAlbum(albumtitle): \n",
    "    fromalbum_query = \"\"\"SELECT a.album_id, a.album_title, 'album' as type \n",
    "                      FROM ALBUMS a\n",
    "                      WHERE a.album_title like '%\"\"\" + albumtitle + \"\"\"%' \"\"\"\n",
    "    db_cursor.execute(fromalbum_query)\n",
    "    records = db_cursor.fetchall()\n",
    "    \n",
    "    return records"
   ]
  },
  {
   "cell_type": "code",
   "execution_count": 15,
   "id": "841f00dd",
   "metadata": {},
   "outputs": [],
   "source": [
    "def findFromArtist(name): \n",
    "    fromartist_query = \"\"\"SELECT a.artist_id, a.artist_fname, 'artist' as type \n",
    "                      FROM ARTISTS a\n",
    "                      WHERE a.artist_fname like '%\"\"\" + name + \"\"\"%' \n",
    "                      OR a.artist_mname like '%\"\"\" + name + \"\"\"%'\n",
    "                      OR a.artist_lname like '%\"\"\" + name + \"\"\"%' \"\"\"\n",
    "    db_cursor.execute(fromartist_query)\n",
    "    records = db_cursor.fetchall()\n",
    "    \n",
    "    return records"
   ]
  },
  {
   "cell_type": "code",
   "execution_count": 16,
   "id": "72a7fe93",
   "metadata": {},
   "outputs": [],
   "source": [
    "def barSearch(songtitle, albumtitle, name):\n",
    "    songs = findFromSong(songtitle)\n",
    "    albums = findFromAlbum(albumtitle)\n",
    "    artists = findFromArtist(name)\n",
    "    all_results = songs + albums + artists\n",
    "    \n",
    "    return all_results"
   ]
  },
  {
   "cell_type": "code",
   "execution_count": 17,
   "id": "97aea223",
   "metadata": {},
   "outputs": [],
   "source": [
    "def findFromGenre(genreName):\n",
    "    frommsonggenre_query = \"\"\"SELECT s.song_id, s.song_title, 'song' as type \n",
    "                      FROM SONGS s\n",
    "                      WHERE s.song_genre like '%\"\"\" + genreName + \"\"\"%' \"\"\"\n",
    "    db_cursor.execute(frommsonggenre_query)\n",
    "    recordssong = db_cursor.fetchall()\n",
    "    \n",
    "    fromalbumgenre_query = \"\"\"SELECT a.album_id, a.album_title, 'album' as type \n",
    "                      FROM ALBUMS a\n",
    "                      WHERE a.album_genre like '%\"\"\" + genreName + \"\"\"%' \"\"\"\n",
    "    db_cursor.execute(fromalbumgenre_query)\n",
    "    recordsalbum = db_cursor.fetchall()\n",
    "    \n",
    "    fromartistgenre_query = \"\"\"SELECT a.artist_id, a.artist_fname, 'artist' as type \n",
    "                      FROM ARTISTS a\n",
    "                      WHERE a.artist_genre like '%\"\"\" + genreName + \"\"\"%'  \"\"\"\n",
    "    db_cursor.execute(fromartistgenre_query)\n",
    "    recordsartist = db_cursor.fetchall()\n",
    "    \n",
    "    all_records = recordssong + recordsalbum + recordsartist\n",
    "    \n",
    "    return all_records"
   ]
  },
  {
   "cell_type": "code",
   "execution_count": 19,
   "id": "0f33b82c",
   "metadata": {},
   "outputs": [],
   "source": [
    "def getLikedSongs(user_id):\n",
    "    fromlikedsong_query = \"\"\"SELECT s.song_id, s.song_title\n",
    "                            FROM SONGS s\n",
    "                            join LikedSongs ls\n",
    "                            ON s.song_id = ls.song_id\n",
    "                            WHERE ls.user_id = user_id \"\"\"\n",
    "    db_cursor.execute(fromlikedsong_query)\n",
    "    records = db_cursor.fetchall()\n",
    "    \n",
    "    return records"
   ]
  },
  {
   "cell_type": "code",
   "execution_count": 20,
   "id": "ee93b7a9",
   "metadata": {},
   "outputs": [],
   "source": [
    "def getLikedAlbums(user_id):\n",
    "    fromlikedalbums_query = \"\"\"SELECT a.album_id, a.album_title\n",
    "                            FROM ALBUMS a\n",
    "                            join LikedAlbums la\n",
    "                            ON a.album_id = la.album_id\n",
    "                            WHERE la.user_id = user_id \"\"\"\n",
    "    db_cursor.execute(fromlikedalbums_query)\n",
    "    records = db_cursor.fetchall()\n",
    "    \n",
    "    return records"
   ]
  },
  {
   "cell_type": "code",
   "execution_count": 21,
   "id": "c47f309d",
   "metadata": {},
   "outputs": [],
   "source": [
    "def getTop10():\n",
    "    toptensong_query = \"\"\"SELECT s.song_id, min(s.song_title) as song_title\n",
    "                            FROM SONGS S\n",
    "                            join LikedSongs ls\n",
    "                            on s.song_id = ls.song_id\n",
    "                            GROUP BY ls.song_id\n",
    "                            ORDER BY count(ls.user_id) DESC\n",
    "                            limit 10 \"\"\"\n",
    "    \n",
    "    db_cursor.execute(toptensong_query)\n",
    "    records = db_cursor.fetchall()\n",
    "    \n",
    "    return records"
   ]
  },
  {
   "cell_type": "code",
   "execution_count": null,
   "id": "9e146612",
   "metadata": {},
   "outputs": [],
   "source": []
  }
 ],
 "metadata": {
  "kernelspec": {
   "display_name": "Python 3 (ipykernel)",
   "language": "python",
   "name": "python3"
  },
  "language_info": {
   "codemirror_mode": {
    "name": "ipython",
    "version": 3
   },
   "file_extension": ".py",
   "mimetype": "text/x-python",
   "name": "python",
   "nbconvert_exporter": "python",
   "pygments_lexer": "ipython3",
   "version": "3.9.12"
  }
 },
 "nbformat": 4,
 "nbformat_minor": 5
}
